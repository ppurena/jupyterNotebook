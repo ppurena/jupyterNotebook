{
 "cells": [
  {
   "cell_type": "markdown",
   "metadata": {
    "slideshow": {
     "slide_type": "slide"
    }
   },
   "source": [
    "# Introducción a Jupyter Notebooks con Python\n",
    "### Ing. José Alfonso Ureña Pajón\n",
    "##### Egresado de la carrera de Ingeniería Electrónica del Tecnológico de Mérida\n",
    "\n",
    "<img src= \"Imagenes/jupyLogo.png\" width = \"600px\" style=\"margin: 20px auto;\">\n",
    "\n"
   ]
  },
  {
   "cell_type": "markdown",
   "metadata": {
    "slideshow": {
     "slide_type": "slide"
    }
   },
   "source": [
    "# Instalación\n",
    "La forma más fácil de instalar la aplicación Jupyter Notebook es instalar una distribución científica de Python llamada [Anaconda](https://www.anaconda.com/download/#windows) que sirve para analisis de datos y que incluye una versión de Python y todas las librerias necesarias. (Se recomienda instalarlo usando la configuraciones predeterminadas)"
   ]
  },
  {
   "cell_type": "markdown",
   "metadata": {
    "slideshow": {
     "slide_type": "slide"
    }
   },
   "source": [
    "# Contenido del taller\n",
    "### 1. Descripcion del uso de los notebooks.\n",
    "* Descripcion y uso de cada una de las partes.\n",
    "* Ejericicios\n",
    "\n",
    "### 2. Introducción a Python.\n",
    "* Variables, Sentencias de Control, Listas, Funciones\n",
    "* Ejercicios\n",
    "\n",
    "### 3. Vistazo a Topicos Avanzados.\n",
    "* Matplotlib, Numpy, Pandas\n"
   ]
  },
  {
   "cell_type": "markdown",
   "metadata": {
    "slideshow": {
     "slide_type": "slide"
    }
   },
   "source": [
    "# ¿Qué es Jupyter Notebook?\n",
    "\n",
    "**Jupyter Notebook** es un entorno de programación interactivo creado por la comunidad que permite la elaboración de documentos \"notebook\" que pueden incluir:\n",
    "* Código ejecutable\n",
    "* Widgets interactivos\n",
    "* Gráficas\n",
    "* Texto\n",
    "* Ecuaciones\n",
    "* Imágenes\n",
    "* Video\n",
    "\n",
    "**Jupyter Notebook** amplía el uso de la terminal para programación interactiva, dandole un giro nuevo, por medio de una aplicación web diseñada para capturar todo el proceso de desarrollo de programa: desarrollo, documentación, ejecución, así como reporte de resultados."
   ]
  },
  {
   "cell_type": "markdown",
   "metadata": {
    "slideshow": {
     "slide_type": "slide"
    }
   },
   "source": [
    "# Componentes\n",
    "\n",
    "**Jupyter Notebook** combina tres componentes:\n",
    "\n",
    "* **La Aplicación Web de Jupyter Notebook**: una aplicación web interactiva donde se crean los documentos \"notebook\".\n",
    "* **Kernels**: procesos separados iniciados por la aplicación web de notebook que ejecuta el código de los usuarios en un lenguaje de programación determinado y devuelve la salida a la aplicación web de notebook.\n",
    "* **Documentos Notebook**: archivo con extensión *ipynb* que es la representación de todo el contenido visible en la aplicación web del notebook, incluidas las entradas y salidas de los cálculos, el texto, las ecuaciones, las imágenes y las representaciones multimedia de objetos.\n",
    "*Cada documento Notebook tiene su propio kernel*."
   ]
  },
  {
   "cell_type": "markdown",
   "metadata": {
    "slideshow": {
     "slide_type": "slide"
    }
   },
   "source": [
    "# ¿Para que pueden servir los Notebooks?\n",
    "* Elaboración de tareas\n",
    "* Reportes\n",
    "* Presentaciónes\n",
    "* Cursos de todo tipo (no sólo de programación)\n",
    "* Clases\n",
    "* Trabajo Científico\n",
    "* Analisis de datos\n",
    "* etc..."
   ]
  },
  {
   "cell_type": "markdown",
   "metadata": {
    "slideshow": {
     "slide_type": "slide"
    }
   },
   "source": [
    "# Inicio del Servidor de Notebook\n",
    "\n",
    "Se puede iniciar el \"Servidor de Notebook\" desde la línea de comandos con el comando:\n",
    "\n",
    "*jupyter notebook*"
   ]
  },
  {
   "cell_type": "markdown",
   "metadata": {
    "slideshow": {
     "slide_type": "slide"
    }
   },
   "source": [
    "# Panel de Notebook (Dashboard)\n",
    "\n",
    "Despues de iniciar el servidor de notebook, el navegador abrirá el Panel de Notebook o Dashboard. Este es la página de inicio del Jupyter Notebook y su propósito principal es mostrar los notebooks y archivos en el directorio actual.\n",
    "\n",
    "<img src= \"Imagenes/dashboard.png\" width = \"1400px\" style=\"margin: 10px auto;\">"
   ]
  },
  {
   "cell_type": "markdown",
   "metadata": {
    "slideshow": {
     "slide_type": "slide"
    }
   },
   "source": [
    "# Nuevo Notebook\n",
    "\n",
    "<img src= \"Imagenes/new-notebook.gif\" width = \"1400px\" style=\"margin: 20px auto;\">"
   ]
  },
  {
   "cell_type": "markdown",
   "metadata": {
    "slideshow": {
     "slide_type": "slide"
    }
   },
   "source": [
    "# Apagar la aplicación de Jupyter Notebooks\n",
    "Al cerrar el navegador (o la pestaña) no se cerrará la aplicación Jupyter Notebook. Para apagarlo completamente necesita cerrar el terminal asociado.\n",
    "\n",
    "Se pueden ejecutar muchas copias de la aplicación Jupyter Notebook y aparecerán en una dirección similar. Sin embargo ya que con una sola aplicación de Jupyter Notebooks se pueden abrir muchos \"documentos notebook\", no se recomienda ejecutar varias copias de la aplicación."
   ]
  },
  {
   "cell_type": "markdown",
   "metadata": {
    "slideshow": {
     "slide_type": "slide"
    }
   },
   "source": [
    "# Cerrar un Documento Notebook (cerrar el Kernel asociado)\n",
    "Cuando se abre un Docuemento Notebook, su \"motor de cómputo\" (llamado kernel) se inicia automáticamente. Al cerrar la pestaña del navegador, no se apagará el kernel, en su lugar, el kernel seguirá funcionando hasta que se apague explícitamente.\n",
    "\n",
    "<img src= \"Imagenes/closeKernel.png\" width = \"600px\" style=\"margin: 10px auto;\">"
   ]
  },
  {
   "cell_type": "markdown",
   "metadata": {
    "slideshow": {
     "slide_type": "subslide"
    }
   },
   "source": [
    "Alternativamente, el \"dashboard\" estan señalados en verde los Notebook que estan activos y se pueden cerrar desde ahi.\n",
    "\n",
    "<img src= \"Imagenes/closeKernel2.png\" width = \"1400px\" style=\"margin: 10px auto;\">"
   ]
  },
  {
   "cell_type": "markdown",
   "metadata": {
    "slideshow": {
     "slide_type": "slide"
    }
   },
   "source": [
    "# Interfaz de Usuario\n",
    "<img src= \"Imagenes/gui.png\" width = \"1500px\" style=\"margin: 10px auto;\">"
   ]
  },
  {
   "cell_type": "markdown",
   "metadata": {
    "slideshow": {
     "slide_type": "slide"
    }
   },
   "source": [
    "# Modos\n",
    "\n",
    "### Modo de Edición\n",
    "El borde de la celda se encuentra en verde y se puede escribir libremente, se entra este modo presionando \"Enter\" o con un clik en el área de edición de alguna celda.\n",
    "\n",
    "<img src= \"Imagenes/edit_mode.png\" width = \"1200px\" style=\"margin: 10px auto;\">\n",
    "\n",
    "### Modo de Comandos\n",
    "El borde de la celda se encuentra en azul y permite el ingreso de \"atajos del teclado\" que permiten manipular las celdas de una manera eficiente, se entra este modo presionando \"Esc\" o con un clik fuera del área de edición de las celdas.\n",
    "\n",
    "<img src= \"Imagenes/command_mode.png\" width = \"1200px\" style=\"margin: 10px auto;\">\n"
   ]
  },
  {
   "cell_type": "markdown",
   "metadata": {
    "slideshow": {
     "slide_type": "slide"
    }
   },
   "source": [
    "# Tipos de Celdas\n",
    "\n",
    "### Celdas de Codigo (Code cells)\n",
    "Permiten ejecutar editar y ejecutar codigo. El lenguaje depende del Kernel que se haya seleccionado, el kernel por defecto es IPython que corre codigo en Python. Cuando una celda de codigo se ejecuta, el codigo que contiene la celda se manda al Kernel para ser procesado y para luego mostrar el resultado como la salida de la celda.\n",
    "### Celdas Markdown (Markdown cells)\n",
    "Permite documentar el proceso de programación por medio de texto \"Markdown\", que permite especificar texto en distintos formatos, texto en negrita, cursivas, tablas, ecuaciones, html, imagenes etc.\n",
    "### Celdas crudas (Raw cells)\n",
    "Permite escribir texto que no será evaluado por el notebook"
   ]
  },
  {
   "cell_type": "markdown",
   "metadata": {
    "slideshow": {
     "slide_type": "slide"
    }
   },
   "source": [
    "# Celdas Markdown\n",
    "En modo de comandos presionar la letra 'M' o seleccionar 'Markdown' en la barra de herramientas."
   ]
  },
  {
   "cell_type": "markdown",
   "metadata": {
    "slideshow": {
     "slide_type": "-"
    }
   },
   "source": [
    "# Encabezado 1\n",
    "### Encabezado 1.1\n",
    "<br>\n",
    "\n",
    "Negrita: __texto__ o **texto**, cursivas: _texto_ or *texto*\n",
    "* viñeta 1\n",
    "* viñeta 2\n",
    "    1. numeración 1\n",
    "    2. numeración 2"
   ]
  },
  {
   "cell_type": "markdown",
   "metadata": {
    "slideshow": {
     "slide_type": "slide"
    }
   },
   "source": [
    "<div style=\"text-align: right\"><b><u>Celdas Markdown (Continuación)</u></b></div>\n",
    "\n",
    "# Tablas\n",
    "\n",
    "<br>"
   ]
  },
  {
   "cell_type": "markdown",
   "metadata": {
    "slideshow": {
     "slide_type": "-"
    }
   },
   "source": [
    "| Tiempo (s) | Posición X (cm)  | Posicion Y (cm)  |\n",
    "|------------|------------------|------------------|\n",
    "|   1        |     .45          |       .2         |\n",
    "|   2        |     .52          |       .1         |\n",
    "|   3        |     .71          |        0         |\n",
    "|   4        |     .78          |       -.05       |\n",
    "|   5        |     .81          |       -.07       |"
   ]
  },
  {
   "cell_type": "markdown",
   "metadata": {
    "slideshow": {
     "slide_type": "slide"
    }
   },
   "source": [
    "<div style=\"text-align: right\"><b><u>Celdas Markdown (Continuación)</u></b></div>\n",
    "\n",
    "\n",
    "# Ecuaciones\n",
    "\n",
    "Las ecuaciones se ingresan por medio de el lenguaje $\\LaTeX$:"
   ]
  },
  {
   "cell_type": "markdown",
   "metadata": {
    "slideshow": {
     "slide_type": "-"
    }
   },
   "source": [
    "1.  En la misma línea: $\\int_0^\\infty x^ {-\\alpha}$\n",
    "\n",
    "2.  En la misma línea: $e^{i\\pi} + 1 = 0$\n",
    "\n",
    "3.  Ecuación centrada independiente del parrafo: $$e^x=\\sum_{i=0}^\\infty \\frac{1}{i!}x^i$$"
   ]
  },
  {
   "cell_type": "markdown",
   "metadata": {
    "slideshow": {
     "slide_type": "slide"
    }
   },
   "source": [
    "<div style=\"text-align: right\"><b><u>Celdas Markdown (Continuación)</u></b></div>\n",
    "\n",
    "\n",
    "# Hipervinculos e Imagenes"
   ]
  },
  {
   "cell_type": "markdown",
   "metadata": {
    "slideshow": {
     "slide_type": "-"
    }
   },
   "source": [
    "<img src= \"Imagenes/google.png\" width = \"700px\" style=\"margin: 20px auto;\">\n",
    "\n",
    "hipervinculo: [Google](https://www.google.com)"
   ]
  },
  {
   "cell_type": "markdown",
   "metadata": {
    "slideshow": {
     "slide_type": "slide"
    }
   },
   "source": [
    "# Celdas de Código\n",
    "En modo de comandos presionar la letra 'Y' o seleccionar 'Code' en la barra de herramientas.<br><br><br>"
   ]
  },
  {
   "cell_type": "code",
   "execution_count": null,
   "metadata": {
    "slideshow": {
     "slide_type": "fragment"
    }
   },
   "outputs": [],
   "source": []
  },
  {
   "cell_type": "markdown",
   "metadata": {
    "slideshow": {
     "slide_type": "slide"
    }
   },
   "source": [
    "<div style=\"text-align: right\"><b><u>Celdas de Código (Continuación)</u></b></div>\n",
    "\n",
    "\n",
    "# Video"
   ]
  },
  {
   "cell_type": "code",
   "execution_count": 43,
   "metadata": {
    "slideshow": {
     "slide_type": "-"
    }
   },
   "outputs": [
    {
     "data": {
      "text/html": [
       "<iframe width=\"1200\" height=\"640\" src=\"https://www.youtube.com/embed/6hfOvs8pY1k?rel=0&amp;controls=0&amp;showinfo=0\" frameborder=\"0\" allowfullscreen></iframe>"
      ],
      "text/plain": [
       "<IPython.core.display.HTML object>"
      ]
     },
     "metadata": {},
     "output_type": "display_data"
    }
   ],
   "source": [
    "%%HTML\n",
    "<iframe width=\"1200\" height=\"640\" src=\"https://www.youtube.com/embed/6hfOvs8pY1k?rel=0&amp;controls=0&amp;showinfo=0\" frameborder=\"0\" allowfullscreen></iframe>"
   ]
  },
  {
   "cell_type": "markdown",
   "metadata": {
    "slideshow": {
     "slide_type": "slide"
    }
   },
   "source": [
    "<div style=\"text-align: right\"><b><u>Celdas de Código (Continuación)</u></b></div>\n",
    "\n",
    "\n",
    "# Gráficas"
   ]
  },
  {
   "cell_type": "code",
   "execution_count": 44,
   "metadata": {
    "slideshow": {
     "slide_type": "-"
    }
   },
   "outputs": [
    {
     "data": {
      "image/png": "[encoded data removed]",
      "text/plain": [
       "<Figure size 864x432 with 1 Axes>"
      ]
     },
     "metadata": {
      "needs_background": "light"
     },
     "output_type": "display_data"
    }
   ],
   "source": [
    "import matplotlib.pyplot as plt\n",
    "import numpy as np\n",
    "%matplotlib inline\n",
    "\n",
    "t = np.arange(0.0, 2.0, 0.01)\n",
    "s = np.sin(2*np.pi*t) * 120\n",
    "plt.figure(figsize=(12,6))\n",
    "plt.plot(t, s)\n",
    "plt.xlabel('tiempo (s)')\n",
    "plt.ylabel('voltaje (mV)')\n",
    "plt.title('Gráfica de Voltaje vs tiempo')\n",
    "plt.grid(True)\n",
    "plt.show()"
   ]
  },
  {
   "cell_type": "markdown",
   "metadata": {
    "slideshow": {
     "slide_type": "slide"
    }
   },
   "source": [
    "<div style=\"text-align: right\"><b><u>Celdas de Código (Continuación)</u></b></div>\n",
    "\n",
    "\n",
    "# Widgets"
   ]
  },
  {
   "cell_type": "code",
   "execution_count": 45,
   "metadata": {
    "slideshow": {
     "slide_type": "-"
    }
   },
   "outputs": [
    {
     "data": {
      "application/vnd.jupyter.widget-view+json": {
       "model_id": "0107623604ad4cd1b5c8b782cf4a5b2d",
       "version_major": 2,
       "version_minor": 0
      },
      "text/plain": [
       "IntSlider(value=7, description='Valor:', max=10)"
      ]
     },
     "metadata": {},
     "output_type": "display_data"
    },
    {
     "data": {
      "application/vnd.jupyter.widget-view+json": {
       "model_id": "56245e1c269a4e6e94d4c957a089f3ff",
       "version_major": 2,
       "version_minor": 0
      },
      "text/plain": [
       "Checkbox(value=False, description='Seleccionar')"
      ]
     },
     "metadata": {},
     "output_type": "display_data"
    },
    {
     "data": {
      "application/vnd.jupyter.widget-view+json": {
       "model_id": "4944eba0d6ba4676baa3b78c4292831d",
       "version_major": 2,
       "version_minor": 0
      },
      "text/plain": [
       "Dropdown(description='Numero:', index=1, options=('1', '2', '3'), value='2')"
      ]
     },
     "metadata": {},
     "output_type": "display_data"
    },
    {
     "data": {
      "application/vnd.jupyter.widget-view+json": {
       "model_id": "a25161ed074a4e7680ebd89a7a69c60d",
       "version_major": 2,
       "version_minor": 0
      },
      "text/plain": [
       "Select(description='OS:', options=('Linux', 'Windows', 'Adroid'), value='Linux')"
      ]
     },
     "metadata": {},
     "output_type": "display_data"
    },
    {
     "data": {
      "application/vnd.jupyter.widget-view+json": {
       "model_id": "5d462208e9e7410083a9268b733d2c7a",
       "version_major": 2,
       "version_minor": 0
      },
      "text/plain": [
       "Button(description='Activar', icon='check', style=ButtonStyle())"
      ]
     },
     "metadata": {},
     "output_type": "display_data"
    }
   ],
   "source": [
    "import ipywidgets as wd\n",
    "a = wd.IntSlider(value=7, min=0, max=10, step=1, description='Valor:', disabled=False)\n",
    "b = wd.Checkbox(value=False, description='Seleccionar', disabled=False)\n",
    "c = wd.Dropdown(options=['1', '2', '3'],value='2', description='Numero:', disabled=False)\n",
    "d = wd.Select(options=['Linux', 'Windows', 'Adroid'], value='Linux', description='OS:', disabled=False)\n",
    "e = wd.Button(description='Activar', disabled=False, icon='check')\n",
    "display(a, b, c, d, e)"
   ]
  },
  {
   "cell_type": "markdown",
   "metadata": {
    "slideshow": {
     "slide_type": "slide"
    }
   },
   "source": [
    "# Ejemplos de Notebooks\n",
    "https://github.com/jupyter/jupyter/wiki/A-gallery-of-interesting-Jupyter-Notebooks\n"
   ]
  },
  {
   "cell_type": "markdown",
   "metadata": {
    "slideshow": {
     "slide_type": "slide"
    }
   },
   "source": [
    "# Ejercicios Sección Jupyter Notebook\n",
    "\n",
    "Recrear con Celdas Markdown el siguiente texto:\n",
    "<img src= \"Imagenes/aceleracion.png\" width = \"1200px\" style=\"margin: 20px auto;\">\n",
    "\n",
    "* Tip1: para centrar una ecuación se usan doble símbolo de pesos (\\$\\$).\n",
    "* Tip2: para poder introducir el símbolo $\\Delta$ se usa \"\\Delta\" detro de los símbolos de pesos."
   ]
  },
  {
   "cell_type": "markdown",
   "metadata": {
    "slideshow": {
     "slide_type": "slide"
    }
   },
   "source": [
    "# Python\n",
    "\n",
    "\n",
    "<img src= \"Imagenes/Python.png\" width = \"400px\" style=\"margin: 20px auto;\">\n",
    "\n"
   ]
  },
  {
   "cell_type": "markdown",
   "metadata": {
    "slideshow": {
     "slide_type": "slide"
    }
   },
   "source": [
    "**Python** es un lenguaje de programación de alto nivel, interpretado creado por Guido van Rossum. La filosofía del lenguaje es darle prioridad a la legibilidad de código.\n",
    "\n",
    "Consta de tipado dinámico y un manejo automático de memoria. Soporta multiples paradigmas de programación, ya que soporta programación orientada a objetos, programación imperativa, programación funcional y de procedimientos.\n",
    "\n",
    "*Fuente: [Wikipedia](https://en.wikipedia.org/wiki/Python_(programming_language))*"
   ]
  },
  {
   "cell_type": "markdown",
   "metadata": {
    "slideshow": {
     "slide_type": "slide"
    }
   },
   "source": [
    "# Variables en Python\n",
    "Las variable sirven para guardar datos y pueden cambiar su valor en cualquier momento:"
   ]
  },
  {
   "cell_type": "code",
   "execution_count": null,
   "metadata": {
    "slideshow": {
     "slide_type": "fragment"
    }
   },
   "outputs": [],
   "source": [
    "# Los comentarios en python inician con un signo de numero (#)\n",
    "saludo = 'Hello world!'\n",
    "print(saludo)"
   ]
  },
  {
   "cell_type": "code",
   "execution_count": 70,
   "metadata": {
    "slideshow": {
     "slide_type": "fragment"
    }
   },
   "outputs": [
    {
     "name": "stdout",
     "output_type": "stream",
     "text": [
      "13\n"
     ]
    }
   ],
   "source": [
    "\"\"\" Los valores de las variables pueden cambiar en cualquier momento\n",
    "    Para poder comentar mas de una linea a la vez se usan las tripes dobles comillas\"\"\" \n",
    "x = 10\n",
    "y = 3\n",
    "y = x + y\n",
    "print (y)"
   ]
  },
  {
   "cell_type": "markdown",
   "metadata": {
    "scrolled": true,
    "slideshow": {
     "slide_type": "slide"
    }
   },
   "source": [
    "<div style=\"text-align: right\"><b><u>Variables en Python (continuación)</u></b></div>\n",
    "\n",
    "# Reglas para nombrar variables\n",
    "* El nombre de una variable solo puede contener letras, números y guiones bajos y no puden empezar con un número.\n",
    "* No se permiten espacios\n",
    "* No se pueden utilizar palabras clave de \n",
    "\n",
    "Ejemplos de nombres de variables correctas: temperatura, contador, x, sensor_1\n",
    "\n",
    "Ejemplos de nombres de variables incorrectas: 12cont, cuarto 3, print, def"
   ]
  },
  {
   "cell_type": "markdown",
   "metadata": {
    "slideshow": {
     "slide_type": "slide"
    }
   },
   "source": [
    "<div style=\"text-align: right\"><b><u>Variables en Python (continuación)</u></b></div>\n",
    "\n",
    "* Las variables enteras son variables numericas que **no contienen** un punto decimal.\n",
    "* Las variables de punto flotante son variables numericas que **contienen** un punto decimal.\n",
    "* Las variables de cadena de caracteres se encuentran entre comillas sencillas (') o comillas dobles (\") "
   ]
  },
  {
   "cell_type": "markdown",
   "metadata": {
    "slideshow": {
     "slide_type": "slide"
    }
   },
   "source": [
    "# Operaciones aritmeticas\n",
    "las operaciones de suma, resta, multiplicacion, división, exponentes y resto en division entera se representan por medio de los simbolos +, -, \\*, /, \\**, % respectivamente."
   ]
  },
  {
   "cell_type": "code",
   "execution_count": null,
   "metadata": {},
   "outputs": [],
   "source": []
  },
  {
   "cell_type": "markdown",
   "metadata": {
    "slideshow": {
     "slide_type": "slide"
    }
   },
   "source": [
    "# Sentencias de control condicionales\n",
    "\n",
    "La sentencia if prueba una condición y luego responde a esa condición. Si la condición es verdadera todas las sentencias del siguiente bloque se ejecutarán. En caso contrario y en caso de haber sido incluida la sentencia \"else\", el bloque de instrucciones inmediatamente despues se ejecutarían."
   ]
  },
  {
   "cell_type": "code",
   "execution_count": null,
   "metadata": {
    "slideshow": {
     "slide_type": "fragment"
    }
   },
   "outputs": [],
   "source": [
    "nombre1 = 'Alfonso'\n",
    "nombre2 = 'alfonso'\n",
    "\n",
    "if nombre1.lower() == nombre2.lower():\n",
    "    print('Comparten el mismo nombre!')\n",
    "else:\n",
    "    print('Las personas tienen distinto nombre')"
   ]
  },
  {
   "cell_type": "markdown",
   "metadata": {
    "slideshow": {
     "slide_type": "fragment"
    }
   },
   "source": [
    "Para verificar igualdad \"==\", inigualdad \"!=\", mayor que \">\", menor que \">\", moyor o igual \">=\", menor o igual \"<=\" y para verificar si algun elemento forma parte de una lista \"in\".\n"
   ]
  },
  {
   "cell_type": "markdown",
   "metadata": {
    "slideshow": {
     "slide_type": "slide"
    }
   },
   "source": [
    "# Sentencias de control de bucle\n",
    "\n",
    "### Bucle For\n",
    "Los bucles for son usados para iterar en los elementos de una secuencia."
   ]
  },
  {
   "cell_type": "code",
   "execution_count": 22,
   "metadata": {
    "slideshow": {
     "slide_type": "fragment"
    }
   },
   "outputs": [
    {
     "name": "stdout",
     "output_type": "stream",
     "text": [
      "2\n",
      "5\n",
      "8\n",
      "11\n",
      "14\n",
      "17\n"
     ]
    }
   ],
   "source": [
    "for x in range(2,20,3):\n",
    "    print (x)"
   ]
  },
  {
   "cell_type": "code",
   "execution_count": 23,
   "metadata": {
    "slideshow": {
     "slide_type": "fragment"
    }
   },
   "outputs": [
    {
     "name": "stdout",
     "output_type": "stream",
     "text": [
      "Luis\n",
      "Pedro\n",
      "Margarita\n",
      "Alfonso\n"
     ]
    }
   ],
   "source": [
    "# La estructura de datos de este ejemplo es una lista literal\n",
    "for nombre in ['Luis', 'Pedro', 'Margarita', 'Alfonso']:\n",
    "    print (nombre)"
   ]
  },
  {
   "cell_type": "markdown",
   "metadata": {
    "slideshow": {
     "slide_type": "slide"
    }
   },
   "source": [
    "<div style=\"text-align: right\"><b><u>Sentencias de control de bucle (continuación)</u></b></div>\n",
    "\n",
    "### Bucle While\n",
    "Los bucles While verifican una condición y en caso de ser verdadera ejecutan el bloque de codigo subsecuente, este se mantiene en ejecucion mientras la condición pemanezca verdadera:"
   ]
  },
  {
   "cell_type": "code",
   "execution_count": 24,
   "metadata": {
    "collapsed": true,
    "slideshow": {
     "slide_type": "fragment"
    }
   },
   "outputs": [
    {
     "name": "stdout",
     "output_type": "stream",
     "text": [
      "Temperatura =26 el clima es agradable\n",
      "Temperatura =27 el clima es agradable\n",
      "Temperatura =28 el clima es agradable\n",
      "Temperatura =29 el clima es agradable\n",
      "Ahora el clima es caluroso!!!\n"
     ]
    }
   ],
   "source": [
    "import time\n",
    "temperatura = 26\n",
    "while temperatura < 30:\n",
    "    print ('Temperatura =' + str(temperatura) + ' el clima es agradable')\n",
    "    temperatura  = temperatura + 1\n",
    "    time.sleep(1)\n",
    "print('Ahora el clima es caluroso!!!')"
   ]
  },
  {
   "cell_type": "code",
   "execution_count": 69,
   "metadata": {
    "slideshow": {
     "slide_type": "fragment"
    }
   },
   "outputs": [
    {
     "name": "stdout",
     "output_type": "stream",
     "text": [
      "Favor de ingresar el password: 3456\n",
      "Favor de ingresar el password: werwt\n",
      "Favor de ingresar el password: 1234\n",
      "password correcto, bienvenido!\n"
     ]
    }
   ],
   "source": [
    "password = ''\n",
    "while password != '1234':\n",
    "    password = input('Favor de ingresar el password: ')\n",
    "\n",
    "print('password correcto, bienvenido!')    "
   ]
  },
  {
   "cell_type": "markdown",
   "metadata": {
    "slideshow": {
     "slide_type": "slide"
    }
   },
   "source": [
    "# Listas\n",
    "Una lista es una colección de elementos, que se almacena en una variable."
   ]
  },
  {
   "cell_type": "code",
   "execution_count": 26,
   "metadata": {
    "slideshow": {
     "slide_type": "fragment"
    }
   },
   "outputs": [
    {
     "name": "stdout",
     "output_type": "stream",
     "text": [
      "pinky,tohui\n"
     ]
    }
   ],
   "source": [
    "misMascotas = ['pinky', 'mariposa', 'tohui', 'sheldon']\n",
    "print(misMascotas[0] + ',' + misMascotas[2])"
   ]
  },
  {
   "cell_type": "code",
   "execution_count": 27,
   "metadata": {
    "slideshow": {
     "slide_type": "fragment"
    }
   },
   "outputs": [
    {
     "name": "stdout",
     "output_type": "stream",
     "text": [
      "sheldon,pinky\n"
     ]
    }
   ],
   "source": [
    "# Para obtener el ultimo miebro de la lista se puede utilizar indices negativos:\n",
    "print(misMascotas[-1] + ',' + misMascotas[-4])"
   ]
  },
  {
   "cell_type": "code",
   "execution_count": 28,
   "metadata": {
    "slideshow": {
     "slide_type": "fragment"
    }
   },
   "outputs": [
    {
     "data": {
      "text/plain": [
       "2"
      ]
     },
     "execution_count": 28,
     "metadata": {},
     "output_type": "execute_result"
    }
   ],
   "source": [
    "# Para saber el indice de un elemento en la lista se usa la funcion index()\n",
    "misMascotas.index('tohui')"
   ]
  },
  {
   "cell_type": "code",
   "execution_count": 29,
   "metadata": {
    "slideshow": {
     "slide_type": "fragment"
    }
   },
   "outputs": [
    {
     "name": "stdout",
     "output_type": "stream",
     "text": [
      "False\n"
     ]
    }
   ],
   "source": [
    "# Para saber si una lista contiene un elemento se utiliza la palabra clave \"in\"\n",
    "print(\"firulais\" in misMascotas)"
   ]
  },
  {
   "cell_type": "markdown",
   "metadata": {
    "slideshow": {
     "slide_type": "slide"
    }
   },
   "source": [
    "<div style=\"text-align: right\"><b><u>Listas (continuación)</u></b></div>"
   ]
  },
  {
   "cell_type": "code",
   "execution_count": 30,
   "metadata": {},
   "outputs": [
    {
     "name": "stdout",
     "output_type": "stream",
     "text": [
      "['pinky', 'mariposa', 'tohui', 'sheldon', 'capitan']\n"
     ]
    }
   ],
   "source": [
    "# Agregar elementos al final de una lista\n",
    "# lista original: misMascotas = ['pinky', 'mariposa', 'tohui', 'sheldon']\n",
    "misMascotas.append('capitan')\n",
    "print(misMascotas)"
   ]
  },
  {
   "cell_type": "code",
   "execution_count": null,
   "metadata": {
    "slideshow": {
     "slide_type": "fragment"
    }
   },
   "outputs": [],
   "source": [
    "# Agregar elementos en un indice determinado de una lista\n",
    "misMascotas.insert(1, 'bruno')\n",
    "print(misMascotas)"
   ]
  },
  {
   "cell_type": "code",
   "execution_count": null,
   "metadata": {
    "slideshow": {
     "slide_type": "fragment"
    }
   },
   "outputs": [],
   "source": [
    "# Para ordenar alfabeticamente una lista\n",
    "misMascotas.sort()\n",
    "print(misMascotas)"
   ]
  },
  {
   "cell_type": "code",
   "execution_count": null,
   "metadata": {
    "slideshow": {
     "slide_type": "fragment"
    }
   },
   "outputs": [],
   "source": [
    "# Para saber el número de elementos en una lista\n",
    "print(len(misMascotas))"
   ]
  },
  {
   "cell_type": "markdown",
   "metadata": {
    "slideshow": {
     "slide_type": "slide"
    }
   },
   "source": [
    "<div style=\"text-align: right\"><b><u>Listas (continuación)</u></b></div>"
   ]
  },
  {
   "cell_type": "code",
   "execution_count": null,
   "metadata": {},
   "outputs": [],
   "source": [
    "\"\"\" Eliminar elementos de una lista en un indice determinado\n",
    "    Contenido Actual de misMascotas = ['bruno', 'capitan', 'mariposa', 'pinky', 'sheldon', 'tohui']\"\"\"\n",
    "del misMascotas[0]\n",
    "print(misMascotas)"
   ]
  },
  {
   "cell_type": "code",
   "execution_count": null,
   "metadata": {
    "slideshow": {
     "slide_type": "fragment"
    }
   },
   "outputs": [],
   "source": [
    "# Eliminar elementos de una lista por valor\n",
    "misMascotas.remove('mariposa')\n",
    "print(misMascotas)"
   ]
  },
  {
   "cell_type": "code",
   "execution_count": null,
   "metadata": {
    "slideshow": {
     "slide_type": "fragment"
    }
   },
   "outputs": [],
   "source": [
    "# Para obtener el ultimo elemento de una lista y eliminarlo al mimso tiempo\n",
    "mascota = misMascotas.pop()\n",
    "print(misMascotas)\n",
    "print(mascota)"
   ]
  },
  {
   "cell_type": "code",
   "execution_count": null,
   "metadata": {
    "slideshow": {
     "slide_type": "fragment"
    }
   },
   "outputs": [],
   "source": [
    "# Para obtener cualquier elemento de una lista y eliminarlo al mimso tiempo\n",
    "mascota = misMascotas.pop(0)\n",
    "print(misMascotas)\n",
    "print(mascota)"
   ]
  },
  {
   "cell_type": "markdown",
   "metadata": {
    "slideshow": {
     "slide_type": "slide"
    }
   },
   "source": [
    "# Funciones\n",
    "Una función es un bloque de código que es ejecutado cuando se hace una llamada a la función.\n",
    "La función puede recibir valores llamados parametros y tambien puede regresar datos como resultado"
   ]
  },
  {
   "cell_type": "code",
   "execution_count": null,
   "metadata": {
    "slideshow": {
     "slide_type": "fragment"
    }
   },
   "outputs": [],
   "source": [
    "def sum(a,b):\n",
    "    return a + b\n",
    "\n",
    "print(sum(23,24))"
   ]
  },
  {
   "cell_type": "markdown",
   "metadata": {
    "slideshow": {
     "slide_type": "slide"
    }
   },
   "source": [
    "# Random\n",
    "Modulo incluido con Python que contiene varias funciones predefinidas y que sirven para generar números pseudo-aleatorios. A continuación se muestran ejemplos de algunas funciones incluidas y que van a servir para los ejercicios siguientes:"
   ]
  },
  {
   "cell_type": "code",
   "execution_count": 74,
   "metadata": {
    "slideshow": {
     "slide_type": "fragment"
    }
   },
   "outputs": [
    {
     "data": {
      "text/plain": [
       "0.45278036869859195"
      ]
     },
     "execution_count": 74,
     "metadata": {},
     "output_type": "execute_result"
    }
   ],
   "source": [
    "import random\n",
    "# Genera un número decimal aleatorio entre [0.0, 1.0)\n",
    "random.random()"
   ]
  },
  {
   "cell_type": "code",
   "execution_count": 73,
   "metadata": {
    "slideshow": {
     "slide_type": "fragment"
    }
   },
   "outputs": [
    {
     "data": {
      "text/plain": [
       "3"
      ]
     },
     "execution_count": 73,
     "metadata": {},
     "output_type": "execute_result"
    }
   ],
   "source": [
    "# Genera un número entero aleatorio entre [0, 9] \n",
    "random.randrange(10)"
   ]
  },
  {
   "cell_type": "code",
   "execution_count": 75,
   "metadata": {
    "slideshow": {
     "slide_type": "fragment"
    }
   },
   "outputs": [
    {
     "data": {
      "text/plain": [
       "76"
      ]
     },
     "execution_count": 75,
     "metadata": {},
     "output_type": "execute_result"
    }
   ],
   "source": [
    "# Genera un número entero par aleatorio entre [0, 100] \n",
    "random.randrange(0, 101, 2) "
   ]
  },
  {
   "cell_type": "code",
   "execution_count": 104,
   "metadata": {
    "slideshow": {
     "slide_type": "fragment"
    }
   },
   "outputs": [
    {
     "data": {
      "text/plain": [
       "'ayer'"
      ]
     },
     "execution_count": 104,
     "metadata": {},
     "output_type": "execute_result"
    }
   ],
   "source": [
    "# Escoger de manera aleatoria un elemento de una lista\n",
    "random.choice([\"ayer\", \"hoy\", \"mañana\"]) "
   ]
  },
  {
   "cell_type": "markdown",
   "metadata": {
    "slideshow": {
     "slide_type": "slide"
    }
   },
   "source": [
    "<div style=\"text-align: right\"><b><u>Random (continuación)</u></b></div>"
   ]
  },
  {
   "cell_type": "code",
   "execution_count": 107,
   "metadata": {
    "slideshow": {
     "slide_type": "-"
    }
   },
   "outputs": [
    {
     "name": "stdout",
     "output_type": "stream",
     "text": [
      "['jota', 'reina', 'as', 'rey']\n"
     ]
    }
   ],
   "source": [
    "# Cambia el orden de una lista \n",
    "lista = [\"jota\", \"reina\", \"rey\", \"as\"]\n",
    "random.shuffle(lista) \n",
    "print(lista)"
   ]
  },
  {
   "cell_type": "code",
   "execution_count": 117,
   "metadata": {
    "slideshow": {
     "slide_type": "fragment"
    }
   },
   "outputs": [
    {
     "data": {
      "text/plain": [
       "'aguila'"
      ]
     },
     "execution_count": 117,
     "metadata": {},
     "output_type": "execute_result"
    }
   ],
   "source": [
    "# Ejemplo que simula el tiro de una moneda\n",
    "def tirarMoneda():\n",
    "    return random.choice([\"aguila\", \"sol\"])\n",
    "\n",
    "tirarMoneda()"
   ]
  },
  {
   "cell_type": "code",
   "execution_count": 131,
   "metadata": {
    "slideshow": {
     "slide_type": "fragment"
    }
   },
   "outputs": [
    {
     "name": "stdout",
     "output_type": "stream",
     "text": [
      "# Eventos: 100\n",
      "# Aguilas: 48\n",
      "# Soles: 52\n"
     ]
    }
   ],
   "source": [
    "# Simulación de tiro de varias monedas\n",
    "def simularTiroMonedas(n):\n",
    "    aguilas = 0\n",
    "    for i in range(n):\n",
    "        if (tirarMoneda() == \"aguila\"):\n",
    "            aguilas += 1\n",
    "    print(\"# Eventos: \" + str(n) + \"\\n# Aguilas: \" + str(aguilas) + \"\\n# Soles: \" + str(n-aguilas))\n",
    "    return\n",
    "\n",
    "simularTiroMonedas(100)"
   ]
  },
  {
   "cell_type": "markdown",
   "metadata": {
    "slideshow": {
     "slide_type": "slide"
    }
   },
   "source": [
    "# Ejercicios de Introducción a Python\n",
    "\n",
    "1. Elaborar una funcion que reciba como entrada una lista y que regrese como salida **otra lista** con los elementos de la lista original ordenados de menor a mayor, se pude usar cualquier algoritmo de ordenamiento, sin embargo, tener en cuenta que de esta elección depende el tiempo de procesamiento y la memoria usada. Ver [video](https://www.youtube.com/watch?v=ZZuD6iUe3Pc) para explicación gráfica. <br>\n",
    "\n",
    "2. Desarrollar una Simulación Monte Carlo que **muestre** que el valor de $\\pi$ converge a 3.14159... <br>\n",
    "    Definicion, *Las Simulaciones Monte Carlo son metodos utilizados para modelar procesos que no se puede predecir fácilmente debido a la intervención de variables aleatorias. Es una técnica utilizada para comprender el impacto del riesgo y la incertidumbre en los modelos de predicción y pronóstico. Este tipo de simulación se utiliza practicamente en todos los campos, tales como finanzas, ingeniería, biología, ciencia etc.*\n",
    "    Fuente: [investopedia](https://www.investopedia.com/terms/m/montecarlosimulation.asp)\n",
    "\n",
    "3. Hacer una función que reciba un número entero mayor que cero y que regrese como resultado el factorial del número ingresado. La operación factorial se encuentra definida de la siguiente manera:\n",
    "$$n! = n\\cdot(n-1)\\cdot(n-2)\\cdots2\\cdot1$$"
   ]
  },
  {
   "cell_type": "markdown",
   "metadata": {
    "slideshow": {
     "slide_type": "slide"
    }
   },
   "source": [
    "<div style=\"text-align: right\"><b><u>Ejercicios de Introducción a Python (continuación)</u></b></div>"
   ]
  },
  {
   "cell_type": "markdown",
   "metadata": {
    "slideshow": {
     "slide_type": "-"
    }
   },
   "source": [
    "4. (Opcional), hacer un juego de tres dados que emule de una manera básica al pokar y que cumpla con las siguientes caracteristicas:\n",
    "\n",
    "    1. Al igual que en el pokar las tercias le ganan a los pares\n",
    "    2. Pares/tercias de numeros mas altos le ganan a los pares/tercias menores respectivamente.\n",
    "    3. La tercia de 6 le gana a todas las combinaciones posibles. \n",
    "    4. Al ingresar la letra 'm' o 'M' se inicia un juego nuevo y se tiran los dados de la maquina, mostrando los valores que obtuvo.\n",
    "    5. Al ingresar la letra 'j' o 'J' se tiran los dados del jugador mostrando sus dados y el resultado de la partida.\n",
    "    6. En todo momento si se presiona la letra 's' o 'S' se termina el juego.\n",
    "    "
   ]
  },
  {
   "cell_type": "code",
   "execution_count": null,
   "metadata": {
    "slideshow": {
     "slide_type": "slide"
    }
   },
   "outputs": [],
   "source": []
  },
  {
   "cell_type": "markdown",
   "metadata": {
    "slideshow": {
     "slide_type": "slide"
    }
   },
   "source": [
    "# Vistazo a Tópicos Avanzados\n",
    "\n",
    "<br>\n",
    "<img src= \"Imagenes/stackPython.png\" width = \"1200px\" style=\"margin: 20px auto;\">\n",
    "\n"
   ]
  },
  {
   "cell_type": "markdown",
   "metadata": {
    "slideshow": {
     "slide_type": "slide"
    }
   },
   "source": [
    "Algunas de las librerias y paqueterias que conforman la pila científica básica de Python son:\n",
    "\n",
    "* NumPy para manipulación básica de matrices\n",
    "* SciPy, computación científica en Python, incluyendo procesamiento y optimización de señales\n",
    "* Matplotlib visualización y graficación.\n",
    "* Pandas para manipulación de datos\n",
    "* Scikit-learn, aprendizaje de maquina (machine learning)\n",
    "\n"
   ]
  },
  {
   "cell_type": "code",
   "execution_count": null,
   "metadata": {
    "slideshow": {
     "slide_type": "slide"
    }
   },
   "outputs": [],
   "source": []
  }
 ],
 "metadata": {
  "celltoolbar": "Slideshow",
  "kernelspec": {
   "display_name": "Python 3",
   "language": "python",
   "name": "python3"
  },
  "language_info": {
   "codemirror_mode": {
    "name": "ipython",
    "version": 3
   },
   "file_extension": ".py",
   "mimetype": "text/x-python",
   "name": "python",
   "nbconvert_exporter": "python",
   "pygments_lexer": "ipython3",
   "version": "3.6.6"
  }
 },
 "nbformat": 4,
 "nbformat_minor": 2
}
