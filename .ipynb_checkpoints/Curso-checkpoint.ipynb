{
 "cells": [
  {
   "cell_type": "markdown",
   "metadata": {},
   "source": [
    "# ¿Qué es Jupyter Notebook? ¶\n",
    "\n",
    "**Jupyter Notebook** es un entorno de programación interactivo que permite a los usuarios crear documentos \"notebook\" que pueden incluir:\n",
    "\n",
    "* Código en vivo\n",
    "* Widgets interactivos\n",
    "* Gráficas\n",
    "* Texto\n",
    "* Ecuaciones\n",
    "* Imágenes\n",
    "* Vídeo\n",
    "\n",
    "Estos documentos proporcionan un registro completo y autónomo de un cálculo que se puede convertir a varios formatos y compartir con otros mediante correo electrónico, Dropbox, sistemas de control de versiones (como git / GitHub) etc."
   ]
  },
  {
   "cell_type": "markdown",
   "metadata": {},
   "source": [
    "# Componentes\n",
    "\n",
    "**Jupyter Notebook** combina tres componentes:\n",
    "\n",
    "* **La aplicación web** de notebook: una aplicación web interactiva para escribir y ejecutar código de manera interactiva y crear documentos de notebook.\n",
    "* **Kernels**: procesos separados iniciados por la aplicación web de notebook que ejecuta el código de los usuarios en un idioma determinado y devuelve la salida a la aplicación web de notebook. El núcleo también maneja cosas como cálculos para widgets interactivos, finalización de pestañas e introspección.\n",
    "* **Documentos Notebook**: documentos autocontenidos que contienen una representación de todo el contenido visible en la aplicación web del cuaderno, incluidas las entradas y salidas de los cálculos, el texto narrativo, las ecuaciones, las imágenes y las representaciones multimedia de objetos. Cada documento Notebook tiene su propio kernel."
   ]
  },
  {
   "cell_type": "code",
   "execution_count": 3,
   "metadata": {},
   "outputs": [
    {
     "data": {
      "text/plain": [
       "7.5"
      ]
     },
     "execution_count": 3,
     "metadata": {},
     "output_type": "execute_result"
    }
   ],
   "source": [
    "5+5/2"
   ]
  },
  {
   "cell_type": "code",
   "execution_count": null,
   "metadata": {},
   "outputs": [],
   "source": []
  }
 ],
 "metadata": {
  "kernelspec": {
   "display_name": "Python 3",
   "language": "python",
   "name": "python3"
  },
  "language_info": {
   "codemirror_mode": {
    "name": "ipython",
    "version": 3
   },
   "file_extension": ".py",
   "mimetype": "text/x-python",
   "name": "python",
   "nbconvert_exporter": "python",
   "pygments_lexer": "ipython3",
   "version": "3.6.5"
  }
 },
 "nbformat": 4,
 "nbformat_minor": 2
}
