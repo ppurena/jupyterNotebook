{
 "cells": [
  {
   "cell_type": "markdown",
   "metadata": {
    "slideshow": {
     "slide_type": "slide"
    }
   },
   "source": [
    "# Introducción a Jupyter Notebooks con Python\n",
    "### Ing. José Alfonso Ureña Pajón\n",
    "##### Egresado de la carrera de Ingeniería Electrónica del Tecnológico de Mérida\n",
    "\n",
    "<img src= \"Imagenes/jupyLogo.png\" width = \"600px\" style=\"margin: 20px auto;\">\n",
    "\n"
   ]
  },
  {
   "cell_type": "markdown",
   "metadata": {
    "slideshow": {
     "slide_type": "slide"
    }
   },
   "source": [
    "# Instalación\n",
    "La forma más fácil de instalar la aplicación Jupyter Notebook es instalar una distribución científica de Python llamada [Anaconda](https://www.anaconda.com/download/#windows) que sirve para analisis de datos y que incluye una versión de Python y todas las librerias necesarias. (Se recomienda instalarlo usando la configuraciones predeterminadas)"
   ]
  },
  {
   "cell_type": "markdown",
   "metadata": {
    "slideshow": {
     "slide_type": "slide"
    }
   },
   "source": [
    "# ¿Qué es Jupyter Notebook?\n",
    "\n",
    "**Jupyter Notebook** es un entorno de programación interactivo creado por la comunidad que permite la elaboración de documentos \"notebook\" que pueden incluir:\n",
    "\n",
    "* Código ejecutable\n",
    "* Widgets interactivos\n",
    "* Gráficas\n",
    "* Texto\n",
    "* Ecuaciones\n",
    "* Imágenes\n",
    "* Video\n",
    "\n",
    "**Jupyter Notebook** amplía el uso de la terminal para programación interactiva, dandole un giro nuevo, por medio de una aplicación web diseñada para capturar todo el proceso de desarrollo de programa: desarrollo, documentación, ejecución, así como reporte de resultados."
   ]
  },
  {
   "cell_type": "markdown",
   "metadata": {
    "slideshow": {
     "slide_type": "slide"
    }
   },
   "source": [
    "# Componentes\n",
    "\n",
    "**Jupyter Notebook** combina tres componentes:\n",
    "\n",
    "* **La Aplicación Web de Jupyter Notebook**: una aplicación web interactiva donde se crean los documentos \"notebook\".\n",
    "* **Kernels**: procesos separados iniciados por la aplicación web de notebook que ejecuta el código de los usuarios en un lenguaje de programación determinado y devuelve la salida a la aplicación web de notebook.\n",
    "* **Documentos Notebook**: archivo con extensión *ipynb* que es la representación de todo el contenido visible en la aplicación web del notebook, incluidas las entradas y salidas de los cálculos, el texto, las ecuaciones, las imágenes y las representaciones multimedia de objetos.\n",
    "*Cada documento Notebook tiene su propio kernel*."
   ]
  },
  {
   "cell_type": "markdown",
   "metadata": {
    "slideshow": {
     "slide_type": "slide"
    }
   },
   "source": [
    "# ¿Para que pueden servir los Notebooks?\n",
    "* Elaboración de tareas\n",
    "* Reportes\n",
    "* Presentaciónes\n",
    "* Cursos de todo tipo (no sólo de programación)\n",
    "* Clases\n",
    "* Trabajo Científico\n",
    "* Analisis de datos\n",
    "* etc..."
   ]
  },
  {
   "cell_type": "markdown",
   "metadata": {
    "slideshow": {
     "slide_type": "slide"
    }
   },
   "source": [
    "# Inicio del Servidor de Notebook\n",
    "\n",
    "Se puede iniciar el \"Servidor de Notebook\" desde la línea de comandos con el comando:\n",
    "\n",
    "*jupyter notebook*"
   ]
  },
  {
   "cell_type": "markdown",
   "metadata": {
    "slideshow": {
     "slide_type": "slide"
    }
   },
   "source": [
    "# Panel de Notebook (Dashboard)\n",
    "\n",
    "Despues de iniciar el servidor de notebook, el navegador abrirá el Panel de Notebook o Dashboard. Este es la página de inicio del Jupyter Notebook y su propósito principal es mostrar los notebooks y archivos en el directorio actual.\n",
    "\n",
    "<img src= \"Imagenes/dashboard.png\" width = \"1400px\" style=\"margin: 10px auto;\">"
   ]
  },
  {
   "cell_type": "markdown",
   "metadata": {
    "slideshow": {
     "slide_type": "slide"
    }
   },
   "source": [
    "# Nuevo Notebook\n",
    "\n",
    "<img src= \"Imagenes/new-notebook.gif\" width = \"1400px\" style=\"margin: 20px auto;\">"
   ]
  },
  {
   "cell_type": "markdown",
   "metadata": {
    "slideshow": {
     "slide_type": "slide"
    }
   },
   "source": [
    "# Apagar la aplicación de Jupyter Notebooks\n",
    "Al cerrar el navegador (o la pestaña) no se cerrará la aplicación Jupyter Notebook. Para apagarlo completamente necesita cerrar el terminal asociado.\n",
    "\n",
    "Se pueden ejecutar muchas copias de la aplicación Jupyter Notebook y aparecerán en una dirección similar. Sin embargo ya que con una sola aplicación de Jupyter Notebooks se pueden abrir muchos \"documentos notebook\", no se recomienda ejecutar varias copias de la aplicación."
   ]
  },
  {
   "cell_type": "markdown",
   "metadata": {
    "slideshow": {
     "slide_type": "slide"
    }
   },
   "source": [
    "# Cerrar un Documento Notebook (cerrar el Kernel Asociado)\n",
    "Cuando se abre un Docuemento Notebook, su \"motor de cómputo\" (llamado kernel) se inicia automáticamente. Al cerrar la pestaña del navegador, no se apagará el kernel, en su lugar, el kernel seguirá funcionando hasta que se apague explícitamente.\n",
    "\n",
    "<img src= \"Imagenes/closeKernel.png\" width = \"600px\" style=\"margin: 10px auto;\">"
   ]
  },
  {
   "cell_type": "markdown",
   "metadata": {
    "slideshow": {
     "slide_type": "subslide"
    }
   },
   "source": [
    "Alternativamente, el \"dashboard\" estan señalados en verde los Notebook que estan activos y se pueden cerrar desde ahi.\n",
    "\n",
    "<img src= \"Imagenes/closeKernel2.png\" width = \"1400px\" style=\"margin: 10px auto;\">"
   ]
  },
  {
   "cell_type": "markdown",
   "metadata": {
    "slideshow": {
     "slide_type": "slide"
    }
   },
   "source": [
    "# Ejemplos de Notebooks\n",
    "https://github.com/jupyter/jupyter/wiki/A-gallery-of-interesting-Jupyter-Notebooks\n"
   ]
  },
  {
   "cell_type": "code",
   "execution_count": 1,
   "metadata": {
    "slideshow": {
     "slide_type": "subslide"
    }
   },
   "outputs": [
    {
     "data": {
      "text/plain": [
       "7.5"
      ]
     },
     "execution_count": 1,
     "metadata": {},
     "output_type": "execute_result"
    }
   ],
   "source": [
    "5+5/2"
   ]
  },
  {
   "cell_type": "code",
   "execution_count": 1,
   "metadata": {
    "slideshow": {
     "slide_type": "slide"
    }
   },
   "outputs": [
    {
     "name": "stdout",
     "output_type": "stream",
     "text": [
      "47\n"
     ]
    }
   ],
   "source": [
    "def sum(a,b):\n",
    "    return a + b\n",
    "\n",
    "print(sum(23,24))"
   ]
  }
 ],
 "metadata": {
  "celltoolbar": "Slideshow",
  "kernelspec": {
   "display_name": "Python 3",
   "language": "python",
   "name": "python3"
  },
  "language_info": {
   "codemirror_mode": {
    "name": "ipython",
    "version": 3
   },
   "file_extension": ".py",
   "mimetype": "text/x-python",
   "name": "python",
   "nbconvert_exporter": "python",
   "pygments_lexer": "ipython3",
   "version": "3.6.6"
  }
 },
 "nbformat": 4,
 "nbformat_minor": 2
}
